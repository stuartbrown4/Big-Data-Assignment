{
 "cells": [
  {
   "cell_type": "code",
   "execution_count": 1,
   "metadata": {},
   "outputs": [],
   "source": [
    "# !pip install levenshtein\n",
    "# !pip install fuzzywuzzy"
   ]
  },
  {
   "cell_type": "code",
   "execution_count": 30,
   "metadata": {},
   "outputs": [],
   "source": [
    "# import packages for data handling/manipulation, plotting and for Approximate string matching\n",
    "\n",
    "import pandas as pd\n",
    "import numpy as np\n",
    "import matplotlib.pyplot as plt\n",
    "from fuzzywuzzy import fuzz \n",
    "from fuzzywuzzy import process"
   ]
  },
  {
   "cell_type": "code",
   "execution_count": 31,
   "metadata": {},
   "outputs": [],
   "source": [
    "# import WHO alcohol data\n",
    "\n",
    "drinks = pd.read_csv('WHO_data_alc.csv', low_memory=False, header=0)"
   ]
  },
  {
   "cell_type": "code",
   "execution_count": 32,
   "metadata": {},
   "outputs": [
    {
     "data": {
      "text/plain": [
       "Index(['IndicatorCode', 'Indicator', 'ValueType', 'ParentLocationCode',\n",
       "       'ParentLocation', 'Location type', 'SpatialDimValueCode', 'Location',\n",
       "       'Period type', 'Period', 'IsLatestYear', 'Dim1 type', 'Dim1',\n",
       "       'Dim1ValueCode', 'Dim2 type', 'Dim2', 'Dim2ValueCode', 'Dim3 type',\n",
       "       'Dim3', 'Dim3ValueCode', 'DataSourceDimValueCode', 'DataSource',\n",
       "       'FactValueNumericPrefix', 'FactValueNumeric', 'FactValueUoM',\n",
       "       'FactValueNumericLowPrefix', 'FactValueNumericLow',\n",
       "       'FactValueNumericHighPrefix', 'FactValueNumericHigh', 'Value',\n",
       "       'FactValueTranslationID', 'FactComments', 'Language', 'DateModified'],\n",
       "      dtype='object')"
      ]
     },
     "execution_count": 32,
     "metadata": {},
     "output_type": "execute_result"
    }
   ],
   "source": [
    "drinks.columns"
   ]
  },
  {
   "cell_type": "markdown",
   "metadata": {},
   "source": [
    "Location = Country\n",
    "\n",
    "Period = year\n",
    "\n",
    "Dim1 = Alcohol cateogory\n",
    "\n",
    "FactValueNumeric = Alcohol, recorded per capita (15+) consumption (in litres of pure alcohol)"
   ]
  },
  {
   "cell_type": "code",
   "execution_count": 33,
   "metadata": {},
   "outputs": [
    {
     "data": {
      "text/html": [
       "<div>\n",
       "<style scoped>\n",
       "    .dataframe tbody tr th:only-of-type {\n",
       "        vertical-align: middle;\n",
       "    }\n",
       "\n",
       "    .dataframe tbody tr th {\n",
       "        vertical-align: top;\n",
       "    }\n",
       "\n",
       "    .dataframe thead th {\n",
       "        text-align: right;\n",
       "    }\n",
       "</style>\n",
       "<table border=\"1\" class=\"dataframe\">\n",
       "  <thead>\n",
       "    <tr style=\"text-align: right;\">\n",
       "      <th></th>\n",
       "      <th>Location</th>\n",
       "      <th>Period</th>\n",
       "      <th>Dim1</th>\n",
       "      <th>FactValueNumeric</th>\n",
       "      <th>FactValueNumericLow</th>\n",
       "      <th>FactValueNumericHigh</th>\n",
       "    </tr>\n",
       "  </thead>\n",
       "  <tbody>\n",
       "    <tr>\n",
       "      <th>0</th>\n",
       "      <td>Afghanistan</td>\n",
       "      <td>2019</td>\n",
       "      <td>Beer</td>\n",
       "      <td>0.00</td>\n",
       "      <td>0.0</td>\n",
       "      <td>0.0</td>\n",
       "    </tr>\n",
       "    <tr>\n",
       "      <th>1</th>\n",
       "      <td>Afghanistan</td>\n",
       "      <td>2019</td>\n",
       "      <td>Other alcoholic beverages</td>\n",
       "      <td>0.00</td>\n",
       "      <td>0.0</td>\n",
       "      <td>0.0</td>\n",
       "    </tr>\n",
       "    <tr>\n",
       "      <th>2</th>\n",
       "      <td>Afghanistan</td>\n",
       "      <td>2019</td>\n",
       "      <td>Wine</td>\n",
       "      <td>0.00</td>\n",
       "      <td>0.0</td>\n",
       "      <td>0.0</td>\n",
       "    </tr>\n",
       "    <tr>\n",
       "      <th>3</th>\n",
       "      <td>Algeria</td>\n",
       "      <td>2019</td>\n",
       "      <td>Other alcoholic beverages</td>\n",
       "      <td>0.00</td>\n",
       "      <td>0.0</td>\n",
       "      <td>0.0</td>\n",
       "    </tr>\n",
       "    <tr>\n",
       "      <th>4</th>\n",
       "      <td>Andorra</td>\n",
       "      <td>2019</td>\n",
       "      <td>Other alcoholic beverages</td>\n",
       "      <td>0.00</td>\n",
       "      <td>0.0</td>\n",
       "      <td>0.0</td>\n",
       "    </tr>\n",
       "    <tr>\n",
       "      <th>...</th>\n",
       "      <td>...</td>\n",
       "      <td>...</td>\n",
       "      <td>...</td>\n",
       "      <td>...</td>\n",
       "      <td>...</td>\n",
       "      <td>...</td>\n",
       "    </tr>\n",
       "    <tr>\n",
       "      <th>47784</th>\n",
       "      <td>United States of America</td>\n",
       "      <td>1960</td>\n",
       "      <td>Spirits</td>\n",
       "      <td>3.26</td>\n",
       "      <td>NaN</td>\n",
       "      <td>NaN</td>\n",
       "    </tr>\n",
       "    <tr>\n",
       "      <th>47785</th>\n",
       "      <td>United States of America</td>\n",
       "      <td>1960</td>\n",
       "      <td>Beer</td>\n",
       "      <td>3.75</td>\n",
       "      <td>NaN</td>\n",
       "      <td>NaN</td>\n",
       "    </tr>\n",
       "    <tr>\n",
       "      <th>47786</th>\n",
       "      <td>Austria</td>\n",
       "      <td>1960</td>\n",
       "      <td>Beer</td>\n",
       "      <td>4.70</td>\n",
       "      <td>NaN</td>\n",
       "      <td>NaN</td>\n",
       "    </tr>\n",
       "    <tr>\n",
       "      <th>47787</th>\n",
       "      <td>United States of America</td>\n",
       "      <td>1960</td>\n",
       "      <td>All types</td>\n",
       "      <td>7.83</td>\n",
       "      <td>NaN</td>\n",
       "      <td>NaN</td>\n",
       "    </tr>\n",
       "    <tr>\n",
       "      <th>47788</th>\n",
       "      <td>Austria</td>\n",
       "      <td>1960</td>\n",
       "      <td>All types</td>\n",
       "      <td>8.91</td>\n",
       "      <td>NaN</td>\n",
       "      <td>NaN</td>\n",
       "    </tr>\n",
       "  </tbody>\n",
       "</table>\n",
       "<p>47789 rows × 6 columns</p>\n",
       "</div>"
      ],
      "text/plain": [
       "                       Location  Period                       Dim1  \\\n",
       "0                   Afghanistan    2019                       Beer   \n",
       "1                   Afghanistan    2019  Other alcoholic beverages   \n",
       "2                   Afghanistan    2019                       Wine   \n",
       "3                       Algeria    2019  Other alcoholic beverages   \n",
       "4                       Andorra    2019  Other alcoholic beverages   \n",
       "...                         ...     ...                        ...   \n",
       "47784  United States of America    1960                    Spirits   \n",
       "47785  United States of America    1960                       Beer   \n",
       "47786                   Austria    1960                       Beer   \n",
       "47787  United States of America    1960                  All types   \n",
       "47788                   Austria    1960                  All types   \n",
       "\n",
       "       FactValueNumeric  FactValueNumericLow  FactValueNumericHigh  \n",
       "0                  0.00                  0.0                   0.0  \n",
       "1                  0.00                  0.0                   0.0  \n",
       "2                  0.00                  0.0                   0.0  \n",
       "3                  0.00                  0.0                   0.0  \n",
       "4                  0.00                  0.0                   0.0  \n",
       "...                 ...                  ...                   ...  \n",
       "47784              3.26                  NaN                   NaN  \n",
       "47785              3.75                  NaN                   NaN  \n",
       "47786              4.70                  NaN                   NaN  \n",
       "47787              7.83                  NaN                   NaN  \n",
       "47788              8.91                  NaN                   NaN  \n",
       "\n",
       "[47789 rows x 6 columns]"
      ]
     },
     "execution_count": 33,
     "metadata": {},
     "output_type": "execute_result"
    }
   ],
   "source": [
    "# keep important columns\n",
    "\n",
    "df = drinks[['Location', 'Period', 'Dim1', 'FactValueNumeric', 'FactValueNumericLow','FactValueNumericHigh']]\n",
    "df"
   ]
  },
  {
   "cell_type": "code",
   "execution_count": 38,
   "metadata": {},
   "outputs": [],
   "source": [
    "# copying the dataframe to manipulate it for plotting\n",
    "\n",
    "df_plot = df.copy()\n",
    "df_plot.columns = ['Location', 'Period', 'Beverage Type', 'Value', 'Low Estimate', 'High Estimate']"
   ]
  },
  {
   "cell_type": "code",
   "execution_count": 37,
   "metadata": {},
   "outputs": [
    {
     "data": {
      "text/plain": [
       "<AxesSubplot:>"
      ]
     },
     "execution_count": 37,
     "metadata": {},
     "output_type": "execute_result"
    },
    {
     "data": {
      "image/png": "[encoded data removed]",
      "text/plain": [
       "<Figure size 720x720 with 1 Axes>"
      ]
     },
     "metadata": {
      "needs_background": "light"
     },
     "output_type": "display_data"
    }
   ],
   "source": [
    "df_plot.drop(['Period'], axis=1).groupby('Dim1').mean().T.boxplot(figsize=(10,10))"
   ]
  },
  {
   "cell_type": "code",
   "execution_count": 42,
   "metadata": {},
   "outputs": [
    {
     "data": {
      "image/png": "[encoded data removed]",
      "text/plain": [
       "<Figure size 1080x1080 with 1 Axes>"
      ]
     },
     "metadata": {
      "needs_background": "light"
     },
     "output_type": "display_data"
    }
   ],
   "source": [
    "ax = df_plot.drop(['Period'], axis=1).groupby('Beverage Type').mean().plot(kind='bar', figsize=(15,15), title='Global Average of Alcohol Consumption, by Type', \n",
    "                                                        ylabel='Alcohol (recorded per capita, 15+) Consumption in litres of pure alcohol', xlabel='Alcohol Category')\n",
    "\n",
    "ax.tick_params(rotation=45)\n"
   ]
  },
  {
   "cell_type": "code",
   "execution_count": 8,
   "metadata": {},
   "outputs": [],
   "source": [
    "# separate the data into alcohol types\n",
    "\n",
    "all_types = df[df['Dim1'] == 'All types'].drop(['Dim1','FactValueNumericLow', 'FactValueNumericHigh'], axis=1).rename(columns={'FactValueNumeric':'All Types Volume'})\n",
    "beer = df[df['Dim1'] == 'Beer'].drop(['Dim1','FactValueNumericLow', 'FactValueNumericHigh'], axis=1).rename(columns={'FactValueNumeric':'Beer Volume'})\n",
    "wine = df[df['Dim1'] == 'Wine'].drop(['Dim1','FactValueNumericLow', 'FactValueNumericHigh'], axis=1).rename(columns={'FactValueNumeric':'Wine Volume'})\n",
    "spirits = df[df['Dim1'] == 'Spirits'].drop(['Dim1','FactValueNumericLow', 'FactValueNumericHigh'], axis=1).rename(columns={'FactValueNumeric':'Spirits Volume'})\n",
    "other = df[df['Dim1'] == 'Other alcoholic beverages'].drop(['Dim1','FactValueNumericLow', 'FactValueNumericHigh'], axis=1).rename(columns={'FactValueNumeric':'Other Volume'})"
   ]
  },
  {
   "cell_type": "code",
   "execution_count": 9,
   "metadata": {},
   "outputs": [
    {
     "data": {
      "text/plain": [
       "<AxesSubplot:xlabel='Period'>"
      ]
     },
     "execution_count": 9,
     "metadata": {},
     "output_type": "execute_result"
    },
    {
     "data": {
      "image/png": "[encoded data removed]",
      "text/plain": [
       "<Figure size 1080x360 with 1 Axes>"
      ]
     },
     "metadata": {
      "needs_background": "light"
     },
     "output_type": "display_data"
    }
   ],
   "source": [
    "all_types.groupby('Period').mean().plot(kind='line', figsize=(15,5))"
   ]
  },
  {
   "cell_type": "code",
   "execution_count": 43,
   "metadata": {},
   "outputs": [],
   "source": [
    "# import the data for the gdp per capita, growth per capita & ppp per captia\n",
    "\n",
    "gdp_pc = pd.read_csv('gdp_per_capita.csv')\n",
    "gdp_pc = gdp_pc.rename(columns={'Country Name':'Location'})\n",
    "\n",
    "gdp_g_pc = pd.read_csv('gdp_per_capita_growth.csv')\n",
    "gdp_g_pc = gdp_g_pc.rename(columns={'Country Name':'Location'})\n",
    "\n",
    "gdp_ppp = pd.read_csv('gdp_ppp_per_capita.csv')\n",
    "gdp_ppp = gdp_ppp.rename(columns={'Country Name':'Location'})"
   ]
  },
  {
   "cell_type": "code",
   "execution_count": 11,
   "metadata": {},
   "outputs": [],
   "source": [
    "# approximate string matching fucntion, to find differences in the country names between the datasets\n",
    "\n",
    "def NameFinder(name):\n",
    "    alc_names = df['Location'].drop_duplicates().to_list()\n",
    "    gdp_names = gdp_pc['Location'].drop_duplicates().to_list()\n",
    "    alc_name = process.extract(name, alc_names, limit=1)\n",
    "    gdp_name = process.extract(name, gdp_names, limit=1)\n",
    "\n",
    "    print('Country Name in GDP Dataset', gdp_name, 'Country Name in Alc Dataset', alc_name)\n",
    "    return gdp_name,alc_name"
   ]
  },
  {
   "cell_type": "code",
   "execution_count": 12,
   "metadata": {},
   "outputs": [
    {
     "name": "stdout",
     "output_type": "stream",
     "text": [
      "91\n"
     ]
    }
   ],
   "source": [
    "# returns the number of locations that do not match, the list of the names that do not match\n",
    "\n",
    "gdp_locs = gdp_pc['Location'].drop_duplicates().to_list()\n",
    "alc_locs = df['Location'].drop_duplicates().to_list()\n",
    "len(gdp_locs), len(alc_locs)\n",
    "\n",
    "closest_match=[]\n",
    "for i in gdp_locs:\n",
    "    fm = process.extract(i, alc_locs, limit=1)\n",
    "    closest_match.append([i, fm[0]])\n",
    "\n",
    "non_match=[]\n",
    "for i in closest_match:\n",
    "    if i[1][1] < 100:\n",
    "        non_match.append(i)\n",
    "\n",
    "print(len(non_match))"
   ]
  },
  {
   "cell_type": "code",
   "execution_count": 65,
   "metadata": {},
   "outputs": [
    {
     "name": "stdout",
     "output_type": "stream",
     "text": [
      "Country Name in GDP Dataset [('United States of America', 90)] Country Name in Alc Dataset [('United States of America', 90)]\n"
     ]
    }
   ],
   "source": [
    "# countries with non-matching names - Bahamas, Bolivia, Ivory Coast, Egypt, UK, Gambia, Iran, St. Lucia, Moldova, Macedonia, Tanzania,  USA, Venexuela, Vietnam, Yemen\n",
    "\n",
    "g, a = NameFinder('United States')"
   ]
  },
  {
   "cell_type": "code",
   "execution_count": 14,
   "metadata": {},
   "outputs": [],
   "source": [
    "# replace names is the gdp datasets that don't match with those in the alcohol data\n",
    "\n",
    "gdp_pc.loc[gdp_pc['Location'] == g[0][0], 'Location'] = a[0][0]\n",
    "\n",
    "gdp_g_pc.loc[gdp_g_pc['Location'] == g[0][0], 'Location'] = a[0][0]\n",
    "\n",
    "gdp_ppp.loc[gdp_ppp['Location'] == g[0][0], 'Location'] = a[0][0]"
   ]
  },
  {
   "cell_type": "code",
   "execution_count": 15,
   "metadata": {},
   "outputs": [],
   "source": [
    "# # save the corrected datasets\n",
    "\n",
    "# gdp_pc.to_csv('gdp_per_capita.csv')\n",
    "# gdp_g_pc.to_csv('gdp_per_capita_growth.csv')\n",
    "# gdp_ppp.to_csv('gdp_ppp_per_capita.csv')"
   ]
  },
  {
   "cell_type": "code",
   "execution_count": 72,
   "metadata": {},
   "outputs": [],
   "source": [
    "# function to find the gdp of a desired country\n",
    "\n",
    "def CountryGDP(country):\n",
    "    country_gdp = gdp_pc[gdp_pc['Location'] == country].T.drop(['Location', 'Unnamed: 65', 'Unnamed: 0'])\n",
    "    country_gdp['Year'] = country_gdp.index\n",
    "    country_gdp['Year'] = country_gdp['Year'].astype(int)\n",
    "    country_gdp.columns = ['GDP', 'Year']\n",
    "    country_gdp = country_gdp.reset_index()\n",
    "    country_gdp = country_gdp.drop(['index'], axis=1)\n",
    "    return country_gdp"
   ]
  },
  {
   "cell_type": "code",
   "execution_count": 103,
   "metadata": {},
   "outputs": [
    {
     "data": {
      "text/html": [
       "<div>\n",
       "<style scoped>\n",
       "    .dataframe tbody tr th:only-of-type {\n",
       "        vertical-align: middle;\n",
       "    }\n",
       "\n",
       "    .dataframe tbody tr th {\n",
       "        vertical-align: top;\n",
       "    }\n",
       "\n",
       "    .dataframe thead th {\n",
       "        text-align: right;\n",
       "    }\n",
       "</style>\n",
       "<table border=\"1\" class=\"dataframe\">\n",
       "  <thead>\n",
       "    <tr style=\"text-align: right;\">\n",
       "      <th></th>\n",
       "      <th>Location</th>\n",
       "      <th>Period</th>\n",
       "      <th>All Types Volume</th>\n",
       "    </tr>\n",
       "  </thead>\n",
       "  <tbody>\n",
       "    <tr>\n",
       "      <th>9</th>\n",
       "      <td>Bangladesh</td>\n",
       "      <td>2019</td>\n",
       "      <td>0.00</td>\n",
       "    </tr>\n",
       "    <tr>\n",
       "      <th>62</th>\n",
       "      <td>Kuwait</td>\n",
       "      <td>2019</td>\n",
       "      <td>0.00</td>\n",
       "    </tr>\n",
       "    <tr>\n",
       "      <th>77</th>\n",
       "      <td>Mauritania</td>\n",
       "      <td>2019</td>\n",
       "      <td>0.00</td>\n",
       "    </tr>\n",
       "    <tr>\n",
       "      <th>103</th>\n",
       "      <td>Saudi Arabia</td>\n",
       "      <td>2019</td>\n",
       "      <td>0.00</td>\n",
       "    </tr>\n",
       "    <tr>\n",
       "      <th>112</th>\n",
       "      <td>Somalia</td>\n",
       "      <td>2019</td>\n",
       "      <td>0.00</td>\n",
       "    </tr>\n",
       "    <tr>\n",
       "      <th>...</th>\n",
       "      <td>...</td>\n",
       "      <td>...</td>\n",
       "      <td>...</td>\n",
       "    </tr>\n",
       "    <tr>\n",
       "      <th>47777</th>\n",
       "      <td>Slovakia</td>\n",
       "      <td>1961</td>\n",
       "      <td>9.28</td>\n",
       "    </tr>\n",
       "    <tr>\n",
       "      <th>47778</th>\n",
       "      <td>Austria</td>\n",
       "      <td>1961</td>\n",
       "      <td>9.31</td>\n",
       "    </tr>\n",
       "    <tr>\n",
       "      <th>47780</th>\n",
       "      <td>Uganda</td>\n",
       "      <td>1961</td>\n",
       "      <td>9.80</td>\n",
       "    </tr>\n",
       "    <tr>\n",
       "      <th>47787</th>\n",
       "      <td>United States of America</td>\n",
       "      <td>1960</td>\n",
       "      <td>7.83</td>\n",
       "    </tr>\n",
       "    <tr>\n",
       "      <th>47788</th>\n",
       "      <td>Austria</td>\n",
       "      <td>1960</td>\n",
       "      <td>8.91</td>\n",
       "    </tr>\n",
       "  </tbody>\n",
       "</table>\n",
       "<p>10089 rows × 3 columns</p>\n",
       "</div>"
      ],
      "text/plain": [
       "                       Location  Period  All Types Volume\n",
       "9                    Bangladesh    2019              0.00\n",
       "62                       Kuwait    2019              0.00\n",
       "77                   Mauritania    2019              0.00\n",
       "103                Saudi Arabia    2019              0.00\n",
       "112                     Somalia    2019              0.00\n",
       "...                         ...     ...               ...\n",
       "47777                  Slovakia    1961              9.28\n",
       "47778                   Austria    1961              9.31\n",
       "47780                    Uganda    1961              9.80\n",
       "47787  United States of America    1960              7.83\n",
       "47788                   Austria    1960              8.91\n",
       "\n",
       "[10089 rows x 3 columns]"
      ]
     },
     "execution_count": 103,
     "metadata": {},
     "output_type": "execute_result"
    }
   ],
   "source": [
    "all_types"
   ]
  },
  {
   "cell_type": "code",
   "execution_count": 106,
   "metadata": {},
   "outputs": [],
   "source": [
    "# function to find the total alcohol consumption of a desired country\n",
    "\n",
    "def CountryConspumtion(country):\n",
    "    country_cons = all_types[all_types['Location'] == country][['Period','All Types Volume']].reset_index().drop(['index'], axis=1)\n",
    "    country_cons.columns = ['Year','alc_cons_litre']\n",
    "    country_cons = country_cons.sort_values('Year')\n",
    "    return country_cons"
   ]
  },
  {
   "cell_type": "code",
   "execution_count": 93,
   "metadata": {},
   "outputs": [],
   "source": [
    "# function to plot the gdp of a country vs the consumption on the same axis\n",
    "\n",
    "def TwoAxisPlot(df1, df2, country):\n",
    "    x1 = np.arange(0, len(df1), step=1)\n",
    "    y1 = df1['GDP'].to_list()\n",
    "    x2 = np.arange(0, len(df2), step=1)\n",
    "    y2 = df2['alc_cons_litre'].to_list()\n",
    "    years = df2['Year'].to_list()\n",
    "\n",
    "    fig, ax = plt.subplots(figsize=(16,8))\n",
    "\n",
    "    color = 'tab:red'\n",
    "    ax.set_ylabel('GDP', color=color)\n",
    "    ax.plot(x1, y1, color=color, label='GDP')\n",
    "    ax.tick_params(axis='y', labelcolor=color)\n",
    "    ax2 = ax.twinx()\n",
    "    color = 'tab:blue'\n",
    "    ax2.set_ylabel('Alcohol Consumption', color=color)\n",
    "    ax2.plot(x2, y2, color=color, label='Alcohol Consumption')\n",
    "    ax2.tick_params(axis='y', labelcolor=color)\n",
    "\n",
    "    fig.tight_layout()\n",
    "\n",
    "    ax.set_xticks(np.arange(len(df2)))\n",
    "    ax.set_xticklabels(years)\n",
    "    ax.tick_params(labelrotation=45)\n",
    "    ax.set_title(f'Normalised GDP vs Total Alcohol Consumption, {country}')\n",
    "    return"
   ]
  },
  {
   "cell_type": "code",
   "execution_count": 116,
   "metadata": {},
   "outputs": [],
   "source": [
    "mor_gdp = CountryGDP('Morocco')\n",
    "mor_cons = CountryConspumtion('Morocco')"
   ]
  },
  {
   "cell_type": "code",
   "execution_count": 117,
   "metadata": {},
   "outputs": [
    {
     "data": {
      "image/png": "[encoded data removed]",
      "text/plain": [
       "<Figure size 1152x576 with 2 Axes>"
      ]
     },
     "metadata": {
      "needs_background": "light"
     },
     "output_type": "display_data"
    }
   ],
   "source": [
    "TwoAxisPlot(mor_gdp, mor_cons, 'Morocco')"
   ]
  },
  {
   "cell_type": "code",
   "execution_count": 19,
   "metadata": {},
   "outputs": [],
   "source": [
    "# fucntion to collate the alcohol data, manipulate the GDP data into a usable format and merge the two\n",
    "        # fucntio merges the alchol dataframes, selects the gdp data where location names match, transposes the gdp data and renames the columns, resets index\n",
    "        # The create a dataframe for each country in the gdp dataset before concatting them all together - done so that the alchol and gdp data are in the same format so that they can be merged\n",
    "        # the gdp dataframe and the alcholo dataframe are then merged together, dropping and NaN values\n",
    "\n",
    "def DataSorter(gdp_df):\n",
    "    merge = all_types.merge(beer).merge(wine).merge(spirits).merge(other).sort_values(by=['Location', 'Period']).reset_index().drop(['index'], axis=1)\n",
    "    gdp_filt = gdp_df.loc[gdp_df['Location'].isin(merge['Location'])].drop(['2020','Unnamed: 0','Unnamed: 65'], axis=1)\n",
    "    gdp_T = gdp_filt.T\n",
    "    gdp_T = gdp_T.rename(columns=gdp_T.iloc[0]).iloc[1:,:].reset_index().rename(columns={'index': 'Period'})\n",
    "    years = gdp_T.Period.to_list()\n",
    "    locs = gdp_T.columns.to_list()\n",
    "    pop = locs.pop(0)\n",
    "\n",
    "    df_list=[]\n",
    "    for i in locs:\n",
    "        df_l = pd.DataFrame(list(zip(years, gdp_T[i].to_list())), columns=['Period', 'GDP'])\n",
    "        df_l['Location'] = i\n",
    "        df_list.append(df_l)\n",
    "\n",
    "    print('No. of seperate DFs created equal to length of countries (from above)',len(df_list))\n",
    "    gdp_concat = pd.concat(df_list)\n",
    "    gdp_concat['Period'] = gdp_concat['Period'].astype(int)\n",
    "    final_merge = merge.merge(gdp_concat)\n",
    "    final_merge = final_merge.dropna()\n",
    "    return final_merge"
   ]
  },
  {
   "cell_type": "code",
   "execution_count": 20,
   "metadata": {},
   "outputs": [
    {
     "name": "stdout",
     "output_type": "stream",
     "text": [
      "No. of seperate DFs created equal to length of countries (from above) 175\n",
      "No. of seperate DFs created equal to length of countries (from above) 175\n",
      "No. of seperate DFs created equal to length of countries (from above) 175\n"
     ]
    }
   ],
   "source": [
    "gdp_pc_merge = DataSorter(gdp_pc)\n",
    "gdp_g_pc_merge = DataSorter(gdp_g_pc)\n",
    "gdp_ppp_merge = DataSorter(gdp_ppp)"
   ]
  },
  {
   "cell_type": "code",
   "execution_count": 21,
   "metadata": {},
   "outputs": [],
   "source": [
    "# gdp_pc_merge.to_csv('merged_gdp_pc.csv')\n",
    "# gdp_g_pc_merge.to_csv('merged_gdp_g_pc.csv')\n",
    "# gdp_ppp_merge.to_csv('merged_gdp_ppp_pc.csv')"
   ]
  },
  {
   "cell_type": "code",
   "execution_count": 53,
   "metadata": {},
   "outputs": [
    {
     "data": {
      "text/html": [
       "<div>\n",
       "<style scoped>\n",
       "    .dataframe tbody tr th:only-of-type {\n",
       "        vertical-align: middle;\n",
       "    }\n",
       "\n",
       "    .dataframe tbody tr th {\n",
       "        vertical-align: top;\n",
       "    }\n",
       "\n",
       "    .dataframe thead th {\n",
       "        text-align: right;\n",
       "    }\n",
       "</style>\n",
       "<table border=\"1\" class=\"dataframe\">\n",
       "  <thead>\n",
       "    <tr style=\"text-align: right;\">\n",
       "      <th></th>\n",
       "      <th>All Types Volume</th>\n",
       "      <th>Beer Volume</th>\n",
       "      <th>Wine Volume</th>\n",
       "      <th>Spirits Volume</th>\n",
       "      <th>Other Volume</th>\n",
       "      <th>GDP</th>\n",
       "    </tr>\n",
       "  </thead>\n",
       "  <tbody>\n",
       "    <tr>\n",
       "      <th>count</th>\n",
       "      <td>6530.000000</td>\n",
       "      <td>6530.000000</td>\n",
       "      <td>6530.000000</td>\n",
       "      <td>6530.000000</td>\n",
       "      <td>6530.000000</td>\n",
       "      <td>6530.000000</td>\n",
       "    </tr>\n",
       "    <tr>\n",
       "      <th>mean</th>\n",
       "      <td>4.817186</td>\n",
       "      <td>1.702672</td>\n",
       "      <td>0.932966</td>\n",
       "      <td>1.486108</td>\n",
       "      <td>0.712724</td>\n",
       "      <td>8066.087003</td>\n",
       "    </tr>\n",
       "    <tr>\n",
       "      <th>std</th>\n",
       "      <td>3.984066</td>\n",
       "      <td>1.741868</td>\n",
       "      <td>1.835191</td>\n",
       "      <td>1.750167</td>\n",
       "      <td>1.688134</td>\n",
       "      <td>14288.449750</td>\n",
       "    </tr>\n",
       "    <tr>\n",
       "      <th>min</th>\n",
       "      <td>0.000000</td>\n",
       "      <td>0.000000</td>\n",
       "      <td>0.000000</td>\n",
       "      <td>0.000000</td>\n",
       "      <td>0.000000</td>\n",
       "      <td>22.795345</td>\n",
       "    </tr>\n",
       "    <tr>\n",
       "      <th>25%</th>\n",
       "      <td>1.350000</td>\n",
       "      <td>0.300000</td>\n",
       "      <td>0.012000</td>\n",
       "      <td>0.100000</td>\n",
       "      <td>0.000000</td>\n",
       "      <td>651.582128</td>\n",
       "    </tr>\n",
       "    <tr>\n",
       "      <th>50%</th>\n",
       "      <td>4.015000</td>\n",
       "      <td>1.090000</td>\n",
       "      <td>0.130000</td>\n",
       "      <td>0.940000</td>\n",
       "      <td>0.010000</td>\n",
       "      <td>2166.974843</td>\n",
       "    </tr>\n",
       "    <tr>\n",
       "      <th>75%</th>\n",
       "      <td>7.550000</td>\n",
       "      <td>2.700000</td>\n",
       "      <td>0.970000</td>\n",
       "      <td>2.287500</td>\n",
       "      <td>0.430000</td>\n",
       "      <td>7779.738401</td>\n",
       "    </tr>\n",
       "    <tr>\n",
       "      <th>max</th>\n",
       "      <td>19.890000</td>\n",
       "      <td>9.960000</td>\n",
       "      <td>18.740000</td>\n",
       "      <td>14.440000</td>\n",
       "      <td>13.060000</td>\n",
       "      <td>123514.196686</td>\n",
       "    </tr>\n",
       "  </tbody>\n",
       "</table>\n",
       "</div>"
      ],
      "text/plain": [
       "       All Types Volume  Beer Volume  Wine Volume  Spirits Volume  \\\n",
       "count       6530.000000  6530.000000  6530.000000     6530.000000   \n",
       "mean           4.817186     1.702672     0.932966        1.486108   \n",
       "std            3.984066     1.741868     1.835191        1.750167   \n",
       "min            0.000000     0.000000     0.000000        0.000000   \n",
       "25%            1.350000     0.300000     0.012000        0.100000   \n",
       "50%            4.015000     1.090000     0.130000        0.940000   \n",
       "75%            7.550000     2.700000     0.970000        2.287500   \n",
       "max           19.890000     9.960000    18.740000       14.440000   \n",
       "\n",
       "       Other Volume            GDP  \n",
       "count   6530.000000    6530.000000  \n",
       "mean       0.712724    8066.087003  \n",
       "std        1.688134   14288.449750  \n",
       "min        0.000000      22.795345  \n",
       "25%        0.000000     651.582128  \n",
       "50%        0.010000    2166.974843  \n",
       "75%        0.430000    7779.738401  \n",
       "max       13.060000  123514.196686  "
      ]
     },
     "execution_count": 53,
     "metadata": {},
     "output_type": "execute_result"
    }
   ],
   "source": [
    "    # summary stats\n",
    "\n",
    "gdp_pc_merge.drop(columns=['Period']).describe()"
   ]
  },
  {
   "cell_type": "code",
   "execution_count": 24,
   "metadata": {},
   "outputs": [
    {
     "data": {
      "text/html": [
       "<div>\n",
       "<style scoped>\n",
       "    .dataframe tbody tr th:only-of-type {\n",
       "        vertical-align: middle;\n",
       "    }\n",
       "\n",
       "    .dataframe tbody tr th {\n",
       "        vertical-align: top;\n",
       "    }\n",
       "\n",
       "    .dataframe thead th {\n",
       "        text-align: right;\n",
       "    }\n",
       "</style>\n",
       "<table border=\"1\" class=\"dataframe\">\n",
       "  <thead>\n",
       "    <tr style=\"text-align: right;\">\n",
       "      <th></th>\n",
       "      <th>All Types Volume</th>\n",
       "      <th>Beer Volume</th>\n",
       "      <th>Wine Volume</th>\n",
       "      <th>Spirits Volume</th>\n",
       "      <th>Other Volume</th>\n",
       "      <th>GDP</th>\n",
       "    </tr>\n",
       "  </thead>\n",
       "  <tbody>\n",
       "    <tr>\n",
       "      <th>count</th>\n",
       "      <td>6349.000000</td>\n",
       "      <td>6349.000000</td>\n",
       "      <td>6349.000000</td>\n",
       "      <td>6349.000000</td>\n",
       "      <td>6349.000000</td>\n",
       "      <td>6349.000000</td>\n",
       "    </tr>\n",
       "    <tr>\n",
       "      <th>mean</th>\n",
       "      <td>4.823227</td>\n",
       "      <td>1.707050</td>\n",
       "      <td>0.942716</td>\n",
       "      <td>1.494695</td>\n",
       "      <td>0.696540</td>\n",
       "      <td>1.917651</td>\n",
       "    </tr>\n",
       "    <tr>\n",
       "      <th>std</th>\n",
       "      <td>3.964700</td>\n",
       "      <td>1.711774</td>\n",
       "      <td>1.847258</td>\n",
       "      <td>1.760528</td>\n",
       "      <td>1.615174</td>\n",
       "      <td>5.585587</td>\n",
       "    </tr>\n",
       "    <tr>\n",
       "      <th>min</th>\n",
       "      <td>0.000000</td>\n",
       "      <td>0.000000</td>\n",
       "      <td>0.000000</td>\n",
       "      <td>0.000000</td>\n",
       "      <td>0.000000</td>\n",
       "      <td>-64.992369</td>\n",
       "    </tr>\n",
       "    <tr>\n",
       "      <th>25%</th>\n",
       "      <td>1.390000</td>\n",
       "      <td>0.310000</td>\n",
       "      <td>0.016000</td>\n",
       "      <td>0.100000</td>\n",
       "      <td>0.000000</td>\n",
       "      <td>-0.245106</td>\n",
       "    </tr>\n",
       "    <tr>\n",
       "      <th>50%</th>\n",
       "      <td>4.010000</td>\n",
       "      <td>1.130000</td>\n",
       "      <td>0.130000</td>\n",
       "      <td>0.950000</td>\n",
       "      <td>0.010000</td>\n",
       "      <td>2.055111</td>\n",
       "    </tr>\n",
       "    <tr>\n",
       "      <th>75%</th>\n",
       "      <td>7.520000</td>\n",
       "      <td>2.720000</td>\n",
       "      <td>0.980000</td>\n",
       "      <td>2.290000</td>\n",
       "      <td>0.440000</td>\n",
       "      <td>4.377587</td>\n",
       "    </tr>\n",
       "    <tr>\n",
       "      <th>max</th>\n",
       "      <td>19.890000</td>\n",
       "      <td>9.960000</td>\n",
       "      <td>18.740000</td>\n",
       "      <td>14.440000</td>\n",
       "      <td>13.060000</td>\n",
       "      <td>121.779472</td>\n",
       "    </tr>\n",
       "  </tbody>\n",
       "</table>\n",
       "</div>"
      ],
      "text/plain": [
       "       All Types Volume  Beer Volume  Wine Volume  Spirits Volume  \\\n",
       "count       6349.000000  6349.000000  6349.000000     6349.000000   \n",
       "mean           4.823227     1.707050     0.942716        1.494695   \n",
       "std            3.964700     1.711774     1.847258        1.760528   \n",
       "min            0.000000     0.000000     0.000000        0.000000   \n",
       "25%            1.390000     0.310000     0.016000        0.100000   \n",
       "50%            4.010000     1.130000     0.130000        0.950000   \n",
       "75%            7.520000     2.720000     0.980000        2.290000   \n",
       "max           19.890000     9.960000    18.740000       14.440000   \n",
       "\n",
       "       Other Volume          GDP  \n",
       "count   6349.000000  6349.000000  \n",
       "mean       0.696540     1.917651  \n",
       "std        1.615174     5.585587  \n",
       "min        0.000000   -64.992369  \n",
       "25%        0.000000    -0.245106  \n",
       "50%        0.010000     2.055111  \n",
       "75%        0.440000     4.377587  \n",
       "max       13.060000   121.779472  "
      ]
     },
     "execution_count": 24,
     "metadata": {},
     "output_type": "execute_result"
    }
   ],
   "source": [
    "gdp_g_pc_merge.drop(columns=['Period']).describe()"
   ]
  },
  {
   "cell_type": "code",
   "execution_count": 26,
   "metadata": {},
   "outputs": [
    {
     "data": {
      "text/html": [
       "<div>\n",
       "<style scoped>\n",
       "    .dataframe tbody tr th:only-of-type {\n",
       "        vertical-align: middle;\n",
       "    }\n",
       "\n",
       "    .dataframe tbody tr th {\n",
       "        vertical-align: top;\n",
       "    }\n",
       "\n",
       "    .dataframe thead th {\n",
       "        text-align: right;\n",
       "    }\n",
       "</style>\n",
       "<table border=\"1\" class=\"dataframe\">\n",
       "  <thead>\n",
       "    <tr style=\"text-align: right;\">\n",
       "      <th></th>\n",
       "      <th>All Types Volume</th>\n",
       "      <th>Beer Volume</th>\n",
       "      <th>Wine Volume</th>\n",
       "      <th>Spirits Volume</th>\n",
       "      <th>Other Volume</th>\n",
       "      <th>GDP</th>\n",
       "    </tr>\n",
       "  </thead>\n",
       "  <tbody>\n",
       "    <tr>\n",
       "      <th>count</th>\n",
       "      <td>4653.000000</td>\n",
       "      <td>4653.000000</td>\n",
       "      <td>4653.000000</td>\n",
       "      <td>4653.000000</td>\n",
       "      <td>4653.000000</td>\n",
       "      <td>4653.000000</td>\n",
       "    </tr>\n",
       "    <tr>\n",
       "      <th>mean</th>\n",
       "      <td>4.788391</td>\n",
       "      <td>1.788711</td>\n",
       "      <td>0.950662</td>\n",
       "      <td>1.496167</td>\n",
       "      <td>0.570155</td>\n",
       "      <td>14355.106886</td>\n",
       "    </tr>\n",
       "    <tr>\n",
       "      <th>std</th>\n",
       "      <td>3.925423</td>\n",
       "      <td>1.712766</td>\n",
       "      <td>1.571085</td>\n",
       "      <td>1.721181</td>\n",
       "      <td>1.517723</td>\n",
       "      <td>18071.340379</td>\n",
       "    </tr>\n",
       "    <tr>\n",
       "      <th>min</th>\n",
       "      <td>0.000000</td>\n",
       "      <td>0.000000</td>\n",
       "      <td>0.000000</td>\n",
       "      <td>0.000000</td>\n",
       "      <td>0.000000</td>\n",
       "      <td>285.404911</td>\n",
       "    </tr>\n",
       "    <tr>\n",
       "      <th>25%</th>\n",
       "      <td>1.260000</td>\n",
       "      <td>0.330000</td>\n",
       "      <td>0.020000</td>\n",
       "      <td>0.120000</td>\n",
       "      <td>0.000000</td>\n",
       "      <td>2675.593695</td>\n",
       "    </tr>\n",
       "    <tr>\n",
       "      <th>50%</th>\n",
       "      <td>3.990000</td>\n",
       "      <td>1.230000</td>\n",
       "      <td>0.160000</td>\n",
       "      <td>0.970000</td>\n",
       "      <td>0.010000</td>\n",
       "      <td>7393.298339</td>\n",
       "    </tr>\n",
       "    <tr>\n",
       "      <th>75%</th>\n",
       "      <td>7.810000</td>\n",
       "      <td>2.940000</td>\n",
       "      <td>1.200000</td>\n",
       "      <td>2.250000</td>\n",
       "      <td>0.270000</td>\n",
       "      <td>18199.383029</td>\n",
       "    </tr>\n",
       "    <tr>\n",
       "      <th>max</th>\n",
       "      <td>17.870000</td>\n",
       "      <td>9.960000</td>\n",
       "      <td>10.010000</td>\n",
       "      <td>14.440000</td>\n",
       "      <td>13.060000</td>\n",
       "      <td>141634.703825</td>\n",
       "    </tr>\n",
       "  </tbody>\n",
       "</table>\n",
       "</div>"
      ],
      "text/plain": [
       "       All Types Volume  Beer Volume  Wine Volume  Spirits Volume  \\\n",
       "count       4653.000000  4653.000000  4653.000000     4653.000000   \n",
       "mean           4.788391     1.788711     0.950662        1.496167   \n",
       "std            3.925423     1.712766     1.571085        1.721181   \n",
       "min            0.000000     0.000000     0.000000        0.000000   \n",
       "25%            1.260000     0.330000     0.020000        0.120000   \n",
       "50%            3.990000     1.230000     0.160000        0.970000   \n",
       "75%            7.810000     2.940000     1.200000        2.250000   \n",
       "max           17.870000     9.960000    10.010000       14.440000   \n",
       "\n",
       "       Other Volume            GDP  \n",
       "count   4653.000000    4653.000000  \n",
       "mean       0.570155   14355.106886  \n",
       "std        1.517723   18071.340379  \n",
       "min        0.000000     285.404911  \n",
       "25%        0.000000    2675.593695  \n",
       "50%        0.010000    7393.298339  \n",
       "75%        0.270000   18199.383029  \n",
       "max       13.060000  141634.703825  "
      ]
     },
     "execution_count": 26,
     "metadata": {},
     "output_type": "execute_result"
    }
   ],
   "source": [
    "gdp_ppp_merge.drop(columns=['Period']).describe()"
   ]
  }
 ],
 "metadata": {
  "kernelspec": {
   "display_name": "Python 3",
   "language": "python",
   "name": "python3"
  },
  "language_info": {
   "codemirror_mode": {
    "name": "ipython",
    "version": 3
   },
   "file_extension": ".py",
   "mimetype": "text/x-python",
   "name": "python",
   "nbconvert_exporter": "python",
   "pygments_lexer": "ipython3",
   "version": "3.8.5"
  }
 },
 "nbformat": 4,
 "nbformat_minor": 2
}
